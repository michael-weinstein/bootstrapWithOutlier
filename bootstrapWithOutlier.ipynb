{
 "cells": [
  {
   "cell_type": "code",
   "execution_count": 1,
   "metadata": {
    "collapsed": true
   },
   "outputs": [],
   "source": [
    "import matplotlib.pyplot as plt\n",
    "import numpy\n",
    "import random\n",
    "%matplotlib inline"
   ]
  },
  {
   "cell_type": "code",
   "execution_count": 2,
   "metadata": {
    "collapsed": true
   },
   "outputs": [],
   "source": [
    "def resample(array):\n",
    "    n = len(array)\n",
    "    return numpy.random.choice(array, n, replace = True)\n",
    "\n",
    "def performBootstrap(array, iterations):\n",
    "    collector = []\n",
    "    for i in range(iterations):\n",
    "        newResample = resample(array)\n",
    "        mean = numpy.mean(newResample)\n",
    "        collector.append(mean)\n",
    "    return collector\n",
    "\n",
    "def injectOutlier(array, mean, standardDeviation, severity, high = None, injectPosition = None):\n",
    "    newArray = array.copy()\n",
    "    if injectPosition is None:\n",
    "        injectPosition = random.randint(0,len(newArray))\n",
    "    outlierDelta = standardDeviation * severity\n",
    "    if high is None:\n",
    "        high = random.randint(0,2)\n",
    "    if high:\n",
    "        outlier = mean + outlierDelta\n",
    "    else:\n",
    "        outlier = mean - outlierDelta\n",
    "    newArray[injectPosition] = outlier\n",
    "    print(\"Injected an outlier value of %s at index %s\" %(outlier, injectPosition))\n",
    "    return newArray"
   ]
  },
  {
   "cell_type": "code",
   "execution_count": 3,
   "metadata": {
    "collapsed": true
   },
   "outputs": [],
   "source": [
    "mean = 0\n",
    "standardDeviation = 0.1\n",
    "n = 1000\n",
    "distribution = numpy.random.normal(mean, standardDeviation, n)"
   ]
  },
  {
   "cell_type": "code",
   "execution_count": 4,
   "metadata": {},
   "outputs": [
    {
     "data": {
      "image/png": "[encoded data removed]",
      "text/plain": [
       "<Figure size 432x288 with 1 Axes>"
      ]
     },
     "metadata": {},
     "output_type": "display_data"
    }
   ],
   "source": [
    "count, bins, ignored = plt.hist(distribution, 30)"
   ]
  },
  {
   "cell_type": "code",
   "execution_count": 5,
   "metadata": {},
   "outputs": [
    {
     "data": {
      "text/plain": [
       "(array([   6.,    9.,   11.,   39.,   46.,  108.,  178.,  264.,  380.,\n",
       "         521.,  654.,  765.,  891.,  956.,  995.,  907.,  786.,  712.,\n",
       "         534.,  465.,  324.,  188.,  113.,   65.,   41.,   25.,    9.,\n",
       "           2.,    4.,    2.]),\n",
       " array([-0.01327219, -0.01252014, -0.01176808, -0.01101603, -0.01026398,\n",
       "        -0.00951192, -0.00875987, -0.00800781, -0.00725576, -0.0065037 ,\n",
       "        -0.00575165, -0.00499959, -0.00424754, -0.00349548, -0.00274343,\n",
       "        -0.00199137, -0.00123932, -0.00048727,  0.00026479,  0.00101684,\n",
       "         0.0017689 ,  0.00252095,  0.00327301,  0.00402506,  0.00477712,\n",
       "         0.00552917,  0.00628123,  0.00703328,  0.00778534,  0.00853739,\n",
       "         0.00928944]),\n",
       " <a list of 30 Patch objects>)"
      ]
     },
     "execution_count": 5,
     "metadata": {},
     "output_type": "execute_result"
    },
    {
     "data": {
      "image/png": "[encoded data removed]",
      "text/plain": [
       "<Figure size 432x288 with 1 Axes>"
      ]
     },
     "metadata": {},
     "output_type": "display_data"
    }
   ],
   "source": [
    "bootstrap = performBootstrap(distribution, 10000)\n",
    "plt.hist(bootstrap, 30)"
   ]
  },
  {
   "cell_type": "code",
   "execution_count": 6,
   "metadata": {},
   "outputs": [
    {
     "name": "stdout",
     "output_type": "stream",
     "text": [
      "Injected an outlier value of -10.0 at index 695\n"
     ]
    },
    {
     "data": {
      "text/plain": [
       "(array([   1.,    0.,    0.,    0.,    0.,    0.,    0.,    0.,    0.,\n",
       "           0.,    0.,    0.,    0.,    0.,    0.,    0.,    0.,    0.,\n",
       "           0.,    0.,    0.,    0.,    0.,    0.,    0.,    0.,    0.,\n",
       "           0.,    0.,    0.,    0.,    0.,    0.,    0.,    0.,    0.,\n",
       "           0.,    0.,    0.,    0.,    0.,    0.,    0.,    0.,    0.,\n",
       "           0.,    0.,    0.,    0.,    0.,    0.,    0.,    0.,    0.,\n",
       "           0.,    0.,    0.,    0.,    0.,    0.,    0.,    0.,    0.,\n",
       "           0.,    0.,    0.,    0.,    0.,    0.,    0.,    0.,    0.,\n",
       "           0.,    0.,    0.,    0.,    0.,    0.,    0.,    0.,    0.,\n",
       "           0.,    0.,    0.,    0.,    0.,    0.,    0.,    0.,    0.,\n",
       "           0.,    0.,    0.,    0.,   11.,  103.,  327.,  378.,  159.,   21.]),\n",
       " array([-10.        ,  -9.89708236,  -9.79416473,  -9.69124709,\n",
       "         -9.58832945,  -9.48541181,  -9.38249418,  -9.27957654,\n",
       "         -9.1766589 ,  -9.07374127,  -8.97082363,  -8.86790599,\n",
       "         -8.76498835,  -8.66207072,  -8.55915308,  -8.45623544,\n",
       "         -8.35331781,  -8.25040017,  -8.14748253,  -8.0445649 ,\n",
       "         -7.94164726,  -7.83872962,  -7.73581198,  -7.63289435,\n",
       "         -7.52997671,  -7.42705907,  -7.32414144,  -7.2212238 ,\n",
       "         -7.11830616,  -7.01538852,  -6.91247089,  -6.80955325,\n",
       "         -6.70663561,  -6.60371798,  -6.50080034,  -6.3978827 ,\n",
       "         -6.29496506,  -6.19204743,  -6.08912979,  -5.98621215,\n",
       "         -5.88329452,  -5.78037688,  -5.67745924,  -5.57454161,\n",
       "         -5.47162397,  -5.36870633,  -5.26578869,  -5.16287106,\n",
       "         -5.05995342,  -4.95703578,  -4.85411815,  -4.75120051,\n",
       "         -4.64828287,  -4.54536523,  -4.4424476 ,  -4.33952996,\n",
       "         -4.23661232,  -4.13369469,  -4.03077705,  -3.92785941,\n",
       "         -3.82494177,  -3.72202414,  -3.6191065 ,  -3.51618886,\n",
       "         -3.41327123,  -3.31035359,  -3.20743595,  -3.10451832,\n",
       "         -3.00160068,  -2.89868304,  -2.7957654 ,  -2.69284777,\n",
       "         -2.58993013,  -2.48701249,  -2.38409486,  -2.28117722,\n",
       "         -2.17825958,  -2.07534194,  -1.97242431,  -1.86950667,\n",
       "         -1.76658903,  -1.6636714 ,  -1.56075376,  -1.45783612,\n",
       "         -1.35491848,  -1.25200085,  -1.14908321,  -1.04616557,\n",
       "         -0.94324794,  -0.8403303 ,  -0.73741266,  -0.63449502,\n",
       "         -0.53157739,  -0.42865975,  -0.32574211,  -0.22282448,\n",
       "         -0.11990684,  -0.0169892 ,   0.08592843,   0.18884607,   0.29176371]),\n",
       " <a list of 100 Patch objects>)"
      ]
     },
     "execution_count": 6,
     "metadata": {},
     "output_type": "execute_result"
    },
    {
     "data": {
      "image/png": "[encoded data removed]",
      "text/plain": [
       "<Figure size 432x288 with 1 Axes>"
      ]
     },
     "metadata": {},
     "output_type": "display_data"
    }
   ],
   "source": [
    "distributionWithOutlier = injectOutlier(distribution, mean, standardDeviation, 100)\n",
    "plt.hist(distributionWithOutlier, 100)"
   ]
  },
  {
   "cell_type": "code",
   "execution_count": 7,
   "metadata": {},
   "outputs": [
    {
     "data": {
      "text/plain": [
       "(array([   1.,    0.,    2.,    0.,    0.,    1.,    0.,    0.,    0.,\n",
       "           2.,    5.,    0.,    0.,    0.,    0.,    2.,    4.,    0.,\n",
       "           2.,    2.,    1.,    3.,    4.,    8.,    1.,    6.,    7.,\n",
       "           7.,   16.,   12.,   16.,   16.,   20.,   16.,    7.,   17.,\n",
       "          16.,   16.,   28.,   20.,   39.,   46.,   49.,   63.,   60.,\n",
       "          51.,   62.,   42.,   39.,   40.,   58.,   80.,   90.,  100.,\n",
       "         132.,  163.,  159.,  170.,  188.,  163.,  139.,  134.,  145.,\n",
       "         119.,  123.,  184.,  210.,  248.,  316.,  338.,  371.,  373.,\n",
       "         335.,  320.,  274.,  247.,  229.,  198.,  187.,  263.,  257.,\n",
       "         301.,  337.,  376.,  370.,  336.,  294.,  244.,  174.,  158.,\n",
       "         128.,   91.,   56.,   30.,   22.,   12.,    6.,    1.,    0.,    2.]),\n",
       " array([-0.06597901, -0.06522794, -0.06447688, -0.06372582, -0.06297475,\n",
       "        -0.06222369, -0.06147262, -0.06072156, -0.0599705 , -0.05921943,\n",
       "        -0.05846837, -0.05771731, -0.05696624, -0.05621518, -0.05546411,\n",
       "        -0.05471305, -0.05396199, -0.05321092, -0.05245986, -0.05170879,\n",
       "        -0.05095773, -0.05020667, -0.0494556 , -0.04870454, -0.04795347,\n",
       "        -0.04720241, -0.04645135, -0.04570028, -0.04494922, -0.04419815,\n",
       "        -0.04344709, -0.04269603, -0.04194496, -0.0411939 , -0.04044283,\n",
       "        -0.03969177, -0.03894071, -0.03818964, -0.03743858, -0.03668751,\n",
       "        -0.03593645, -0.03518539, -0.03443432, -0.03368326, -0.03293219,\n",
       "        -0.03218113, -0.03143007, -0.030679  , -0.02992794, -0.02917687,\n",
       "        -0.02842581, -0.02767475, -0.02692368, -0.02617262, -0.02542155,\n",
       "        -0.02467049, -0.02391943, -0.02316836, -0.0224173 , -0.02166623,\n",
       "        -0.02091517, -0.02016411, -0.01941304, -0.01866198, -0.01791091,\n",
       "        -0.01715985, -0.01640879, -0.01565772, -0.01490666, -0.01415559,\n",
       "        -0.01340453, -0.01265347, -0.0119024 , -0.01115134, -0.01040027,\n",
       "        -0.00964921, -0.00889815, -0.00814708, -0.00739602, -0.00664495,\n",
       "        -0.00589389, -0.00514283, -0.00439176, -0.0036407 , -0.00288963,\n",
       "        -0.00213857, -0.00138751, -0.00063644,  0.00011462,  0.00086569,\n",
       "         0.00161675,  0.00236781,  0.00311888,  0.00386994,  0.00462101,\n",
       "         0.00537207,  0.00612313,  0.0068742 ,  0.00762526,  0.00837633,\n",
       "         0.00912739]),\n",
       " <a list of 100 Patch objects>)"
      ]
     },
     "execution_count": 7,
     "metadata": {},
     "output_type": "execute_result"
    },
    {
     "data": {
      "image/png": "[encoded data removed]",
      "text/plain": [
       "<Figure size 432x288 with 1 Axes>"
      ]
     },
     "metadata": {},
     "output_type": "display_data"
    }
   ],
   "source": [
    "bootstrapWithOutlier = performBootstrap(distributionWithOutlier, 10000)\n",
    "plt.hist(bootstrapWithOutlier, 100)"
   ]
  },
  {
   "cell_type": "code",
   "execution_count": null,
   "metadata": {
    "collapsed": true
   },
   "outputs": [],
   "source": []
  }
 ],
 "metadata": {
  "kernelspec": {
   "display_name": "Python 3",
   "language": "python",
   "name": "python3"
  },
  "language_info": {
   "codemirror_mode": {
    "name": "ipython",
    "version": 3
   },
   "file_extension": ".py",
   "mimetype": "text/x-python",
   "name": "python",
   "nbconvert_exporter": "python",
   "pygments_lexer": "ipython3",
   "version": "3.6.2"
  }
 },
 "nbformat": 4,
 "nbformat_minor": 2
}
