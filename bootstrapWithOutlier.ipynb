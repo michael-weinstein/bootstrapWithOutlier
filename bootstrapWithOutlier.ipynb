{
 "cells": [
  {
   "cell_type": "code",
   "execution_count": 1,
   "metadata": {
    "collapsed": true
   },
   "outputs": [],
   "source": [
    "#DOING MY PYTHON IMPORTS\n",
    "import matplotlib.pyplot as plt\n",
    "import numpy\n",
    "import random\n",
    "%matplotlib inline"
   ]
  },
  {
   "cell_type": "code",
   "execution_count": 2,
   "metadata": {
    "collapsed": true
   },
   "outputs": [],
   "source": [
    "#DEFINING SOME FUNCTIONS\n",
    "def resample(array):\n",
    "    n = len(array)\n",
    "    return numpy.random.choice(array, n, replace = True)\n",
    "\n",
    "def performBootstrap(array, iterations):\n",
    "    collector = []\n",
    "    for i in range(iterations):\n",
    "        newResample = resample(array)\n",
    "        mean = numpy.mean(newResample)\n",
    "        collector.append(mean)\n",
    "    return collector\n",
    "\n",
    "def injectOutlier(array, mean, standardDeviation, severity, high = None, injectPosition = None):\n",
    "    #This will take in some array as well as a mean and standard deviation and replace one of the values with an extreme outlier.\n",
    "    #The number of standard deviations for the outlier, the direction, and the position can all be set.\n",
    "    newArray = array.copy()\n",
    "    if injectPosition is None:\n",
    "        injectPosition = random.randint(0,len(newArray))\n",
    "    outlierDelta = standardDeviation * severity\n",
    "    if high is None:\n",
    "        high = random.randint(0,2)\n",
    "    if high:\n",
    "        outlier = mean + outlierDelta\n",
    "    else:\n",
    "        outlier = mean - outlierDelta\n",
    "    newArray[injectPosition] = outlier\n",
    "    print(\"Injected an outlier value of %s at index %s\" %(outlier, injectPosition))\n",
    "    return newArray"
   ]
  },
  {
   "cell_type": "code",
   "execution_count": 3,
   "metadata": {
    "collapsed": true
   },
   "outputs": [],
   "source": [
    "#DEFINING SOME PARAMETERS AND CREATING MY DISTRIBUTION\n",
    "bootstrapIterations = 10000\n",
    "mean = 0\n",
    "standardDeviation = 0.1\n",
    "n = 1000\n",
    "distribution = numpy.random.normal(mean, standardDeviation, n)"
   ]
  },
  {
   "cell_type": "code",
   "execution_count": 4,
   "metadata": {},
   "outputs": [
    {
     "data": {
      "image/png": "[encoded data removed]",
      "text/plain": [
       "<Figure size 432x288 with 1 Axes>"
      ]
     },
     "metadata": {},
     "output_type": "display_data"
    }
   ],
   "source": [
    "count, bins, ignored = plt.hist(distribution, 30)"
   ]
  },
  {
   "cell_type": "code",
   "execution_count": 5,
   "metadata": {},
   "outputs": [
    {
     "data": {
      "text/plain": [
       "(array([   3.,    6.,   25.,   31.,   57.,  104.,  162.,  243.,  408.,\n",
       "         505.,  679.,  767.,  940.,  937.,  989.,  914.,  859.,  688.,\n",
       "         537.,  386.,  293.,  184.,  115.,   68.,   50.,   26.,   12.,\n",
       "           5.,    4.,    3.]),\n",
       " array([ -1.12634886e-02,  -1.04585268e-02,  -9.65356500e-03,\n",
       "         -8.84860319e-03,  -8.04364139e-03,  -7.23867959e-03,\n",
       "         -6.43371779e-03,  -5.62875599e-03,  -4.82379418e-03,\n",
       "         -4.01883238e-03,  -3.21387058e-03,  -2.40890878e-03,\n",
       "         -1.60394698e-03,  -7.98985175e-04,   5.97662739e-06,\n",
       "          8.10938429e-04,   1.61590023e-03,   2.42086203e-03,\n",
       "          3.22582384e-03,   4.03078564e-03,   4.83574744e-03,\n",
       "          5.64070924e-03,   6.44567104e-03,   7.25063285e-03,\n",
       "          8.05559465e-03,   8.86055645e-03,   9.66551825e-03,\n",
       "          1.04704801e-02,   1.12754419e-02,   1.20804037e-02,\n",
       "          1.28853655e-02]),\n",
       " <a list of 30 Patch objects>)"
      ]
     },
     "execution_count": 5,
     "metadata": {},
     "output_type": "execute_result"
    },
    {
     "data": {
      "image/png": "[encoded data removed]",
      "text/plain": [
       "<Figure size 432x288 with 1 Axes>"
      ]
     },
     "metadata": {},
     "output_type": "display_data"
    }
   ],
   "source": [
    "#BOOTSTRAPPING WITH 10K ITERATIONS\n",
    "bootstrap = performBootstrap(distribution, bootstrapIterations)\n",
    "plt.hist(bootstrap, 30)"
   ]
  },
  {
   "cell_type": "code",
   "execution_count": 6,
   "metadata": {},
   "outputs": [
    {
     "name": "stdout",
     "output_type": "stream",
     "text": [
      "Injected an outlier value of 10.0 at index 274\n"
     ]
    },
    {
     "data": {
      "text/plain": [
       "(array([  39.,  161.,  355.,  320.,  109.,   15.,    0.,    0.,    0.,\n",
       "           0.,    0.,    0.,    0.,    0.,    0.,    0.,    0.,    0.,\n",
       "           0.,    0.,    0.,    0.,    0.,    0.,    0.,    0.,    0.,\n",
       "           0.,    0.,    0.,    0.,    0.,    0.,    0.,    0.,    0.,\n",
       "           0.,    0.,    0.,    0.,    0.,    0.,    0.,    0.,    0.,\n",
       "           0.,    0.,    0.,    0.,    0.,    0.,    0.,    0.,    0.,\n",
       "           0.,    0.,    0.,    0.,    0.,    0.,    0.,    0.,    0.,\n",
       "           0.,    0.,    0.,    0.,    0.,    0.,    0.,    0.,    0.,\n",
       "           0.,    0.,    0.,    0.,    0.,    0.,    0.,    0.,    0.,\n",
       "           0.,    0.,    0.,    0.,    0.,    0.,    0.,    0.,    0.,\n",
       "           0.,    0.,    0.,    0.,    0.,    0.,    0.,    0.,    0.,    1.]),\n",
       " array([ -0.29290728,  -0.1899782 ,  -0.08704913,   0.01587994,\n",
       "          0.11880902,   0.22173809,   0.32466716,   0.42759623,\n",
       "          0.53052531,   0.63345438,   0.73638345,   0.83931253,\n",
       "          0.9422416 ,   1.04517067,   1.14809974,   1.25102882,\n",
       "          1.35395789,   1.45688696,   1.55981603,   1.66274511,\n",
       "          1.76567418,   1.86860325,   1.97153233,   2.0744614 ,\n",
       "          2.17739047,   2.28031954,   2.38324862,   2.48617769,\n",
       "          2.58910676,   2.69203583,   2.79496491,   2.89789398,\n",
       "          3.00082305,   3.10375213,   3.2066812 ,   3.30961027,\n",
       "          3.41253934,   3.51546842,   3.61839749,   3.72132656,\n",
       "          3.82425563,   3.92718471,   4.03011378,   4.13304285,\n",
       "          4.23597193,   4.338901  ,   4.44183007,   4.54475914,\n",
       "          4.64768822,   4.75061729,   4.85354636,   4.95647544,\n",
       "          5.05940451,   5.16233358,   5.26526265,   5.36819173,\n",
       "          5.4711208 ,   5.57404987,   5.67697894,   5.77990802,\n",
       "          5.88283709,   5.98576616,   6.08869524,   6.19162431,\n",
       "          6.29455338,   6.39748245,   6.50041153,   6.6033406 ,\n",
       "          6.70626967,   6.80919874,   6.91212782,   7.01505689,\n",
       "          7.11798596,   7.22091504,   7.32384411,   7.42677318,\n",
       "          7.52970225,   7.63263133,   7.7355604 ,   7.83848947,\n",
       "          7.94141854,   8.04434762,   8.14727669,   8.25020576,\n",
       "          8.35313484,   8.45606391,   8.55899298,   8.66192205,\n",
       "          8.76485113,   8.8677802 ,   8.97070927,   9.07363835,\n",
       "          9.17656742,   9.27949649,   9.38242556,   9.48535464,\n",
       "          9.58828371,   9.69121278,   9.79414185,   9.89707093,  10.        ]),\n",
       " <a list of 100 Patch objects>)"
      ]
     },
     "execution_count": 6,
     "metadata": {},
     "output_type": "execute_result"
    },
    {
     "data": {
      "image/png": "[encoded data removed]",
      "text/plain": [
       "<Figure size 432x288 with 1 Axes>"
      ]
     },
     "metadata": {},
     "output_type": "display_data"
    }
   ],
   "source": [
    "#MAKING MY DISTRIBUTION GAIN A SERIOUS OUTLIER\n",
    "distributionWithOutlier = injectOutlier(distribution, mean, standardDeviation, 100)\n",
    "plt.hist(distributionWithOutlier, 100)"
   ]
  },
  {
   "cell_type": "code",
   "execution_count": 7,
   "metadata": {},
   "outputs": [
    {
     "data": {
      "text/plain": [
       "(array([   4.,    5.,    8.,   13.,   28.,   34.,   57.,  100.,  132.,\n",
       "         179.,  226.,  266.,  305.,  313.,  361.,  323.,  325.,  280.,\n",
       "         253.,  211.,  195.,  191.,  242.,  245.,  276.,  304.,  332.,\n",
       "         353.,  311.,  310.,  329.,  250.,  200.,  199.,  142.,  135.,\n",
       "         138.,  149.,  134.,  156.,  159.,  176.,  149.,  165.,  146.,\n",
       "         141.,   96.,   76.,   73.,   54.,   42.,   63.,   50.,   49.,\n",
       "          51.,   63.,   61.,   52.,   44.,   37.,   26.,   18.,   15.,\n",
       "          12.,   11.,   14.,   13.,   13.,    8.,   11.,   16.,    9.,\n",
       "          12.,   13.,    6.,    8.,    6.,    0.,    5.,    2.,    3.,\n",
       "           3.,    2.,    3.,    2.,    1.,    1.,    2.,    1.,    1.,\n",
       "           0.,    0.,    1.,    0.,    0.,    0.,    0.,    0.,    0.,    1.]),\n",
       " array([-0.01039545, -0.009661  , -0.00892656, -0.00819211, -0.00745767,\n",
       "        -0.00672322, -0.00598878, -0.00525433, -0.00451989, -0.00378544,\n",
       "        -0.003051  , -0.00231655, -0.00158211, -0.00084766, -0.00011322,\n",
       "         0.00062123,  0.00135567,  0.00209012,  0.00282456,  0.00355901,\n",
       "         0.00429345,  0.0050279 ,  0.00576235,  0.00649679,  0.00723124,\n",
       "         0.00796568,  0.00870013,  0.00943457,  0.01016902,  0.01090346,\n",
       "         0.01163791,  0.01237235,  0.0131068 ,  0.01384124,  0.01457569,\n",
       "         0.01531013,  0.01604458,  0.01677902,  0.01751347,  0.01824791,\n",
       "         0.01898236,  0.01971681,  0.02045125,  0.0211857 ,  0.02192014,\n",
       "         0.02265459,  0.02338903,  0.02412348,  0.02485792,  0.02559237,\n",
       "         0.02632681,  0.02706126,  0.0277957 ,  0.02853015,  0.02926459,\n",
       "         0.02999904,  0.03073348,  0.03146793,  0.03220237,  0.03293682,\n",
       "         0.03367127,  0.03440571,  0.03514016,  0.0358746 ,  0.03660905,\n",
       "         0.03734349,  0.03807794,  0.03881238,  0.03954683,  0.04028127,\n",
       "         0.04101572,  0.04175016,  0.04248461,  0.04321905,  0.0439535 ,\n",
       "         0.04468794,  0.04542239,  0.04615683,  0.04689128,  0.04762573,\n",
       "         0.04836017,  0.04909462,  0.04982906,  0.05056351,  0.05129795,\n",
       "         0.0520324 ,  0.05276684,  0.05350129,  0.05423573,  0.05497018,\n",
       "         0.05570462,  0.05643907,  0.05717351,  0.05790796,  0.0586424 ,\n",
       "         0.05937685,  0.06011129,  0.06084574,  0.06158019,  0.06231463,\n",
       "         0.06304908]),\n",
       " <a list of 100 Patch objects>)"
      ]
     },
     "execution_count": 7,
     "metadata": {},
     "output_type": "execute_result"
    },
    {
     "data": {
      "image/png": "[encoded data removed]",
      "text/plain": [
       "<Figure size 432x288 with 1 Axes>"
      ]
     },
     "metadata": {},
     "output_type": "display_data"
    }
   ],
   "source": [
    "#RERUNNING THE BOOTSTRAP WITH THE OUTLIER IN THE DISTRIBUTION\n",
    "bootstrapWithOutlier = performBootstrap(distributionWithOutlier, bootstrapIterations)\n",
    "plt.hist(bootstrapWithOutlier, 100)"
   ]
  },
  {
   "cell_type": "code",
   "execution_count": null,
   "metadata": {
    "collapsed": true
   },
   "outputs": [],
   "source": []
  }
 ],
 "metadata": {
  "kernelspec": {
   "display_name": "Python 3",
   "language": "python",
   "name": "python3"
  },
  "language_info": {
   "codemirror_mode": {
    "name": "ipython",
    "version": 3
   },
   "file_extension": ".py",
   "mimetype": "text/x-python",
   "name": "python",
   "nbconvert_exporter": "python",
   "pygments_lexer": "ipython3",
   "version": "3.6.2"
  }
 },
 "nbformat": 4,
 "nbformat_minor": 2
}
